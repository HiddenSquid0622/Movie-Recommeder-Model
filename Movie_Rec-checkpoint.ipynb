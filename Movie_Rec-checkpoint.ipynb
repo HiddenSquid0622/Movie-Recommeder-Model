{
 "cells": [
  {
   "cell_type": "code",
   "execution_count": 1,
   "id": "3cfc7d12-ad72-49bc-8645-722f896e103a",
   "metadata": {},
   "outputs": [],
   "source": [
    "import pandas as pd\n",
    "import numpy as ns\n",
    "import seaborn as sns\n",
    "import matplotlib.pyplot as plt\n",
    "from scipy.stats import skew\n",
    "import nltk\n",
    "from nltk.tokenize import word_tokenize\n",
    "from nltk.corpus import stopwords\n",
    "from nltk.stem import PorterStemmer\n",
    "from tensorflow.keras.preprocessing.text import Tokenizer\n",
    "from tensorflow.keras.preprocessing.sequence import pad_sequences"
   ]
  },
  {
   "cell_type": "code",
   "execution_count": 2,
   "id": "56774312-7826-422d-afe0-f1ec539b0658",
   "metadata": {},
   "outputs": [],
   "source": [
    "df=pd.read_csv('C:/Users/ASUS/Desktop/Movie_Rec/Movies1.csv', engine='python')"
   ]
  },
  {
   "cell_type": "code",
   "execution_count": 3,
   "id": "8aa873b1-8cc7-489f-a01c-892b6bd1b924",
   "metadata": {},
   "outputs": [
    {
     "data": {
      "text/html": [
       "<div>\n",
       "<style scoped>\n",
       "    .dataframe tbody tr th:only-of-type {\n",
       "        vertical-align: middle;\n",
       "    }\n",
       "\n",
       "    .dataframe tbody tr th {\n",
       "        vertical-align: top;\n",
       "    }\n",
       "\n",
       "    .dataframe thead th {\n",
       "        text-align: right;\n",
       "    }\n",
       "</style>\n",
       "<table border=\"1\" class=\"dataframe\">\n",
       "  <thead>\n",
       "    <tr style=\"text-align: right;\">\n",
       "      <th></th>\n",
       "      <th>Unnamed: 0</th>\n",
       "      <th>id</th>\n",
       "      <th>original_language</th>\n",
       "      <th>original_title</th>\n",
       "      <th>popularity</th>\n",
       "      <th>release_date</th>\n",
       "      <th>vote_average</th>\n",
       "      <th>vote_count</th>\n",
       "      <th>genre</th>\n",
       "      <th>overview</th>\n",
       "      <th>revenue</th>\n",
       "      <th>runtime</th>\n",
       "      <th>tagline</th>\n",
       "    </tr>\n",
       "  </thead>\n",
       "  <tbody>\n",
       "    <tr>\n",
       "      <th>0</th>\n",
       "      <td>0</td>\n",
       "      <td>580489.0</td>\n",
       "      <td>en</td>\n",
       "      <td>Venom: Let There Be Carnage</td>\n",
       "      <td>5401.308</td>\n",
       "      <td>2021-09-30</td>\n",
       "      <td>6.8</td>\n",
       "      <td>1736.0</td>\n",
       "      <td>['Science Fiction', 'Action', 'Adventure']</td>\n",
       "      <td>After finding a host body in investigative rep...</td>\n",
       "      <td>424000000.0</td>\n",
       "      <td>97.0</td>\n",
       "      <td>NaN</td>\n",
       "    </tr>\n",
       "    <tr>\n",
       "      <th>1</th>\n",
       "      <td>1</td>\n",
       "      <td>524434.0</td>\n",
       "      <td>en</td>\n",
       "      <td>Eternals</td>\n",
       "      <td>3365.535</td>\n",
       "      <td>2021-11-03</td>\n",
       "      <td>7.1</td>\n",
       "      <td>622.0</td>\n",
       "      <td>['Action', 'Adventure', 'Science Fiction', 'Fa...</td>\n",
       "      <td>The Eternals are a team of ancient aliens who ...</td>\n",
       "      <td>165000000.0</td>\n",
       "      <td>157.0</td>\n",
       "      <td>In the beginning...</td>\n",
       "    </tr>\n",
       "    <tr>\n",
       "      <th>2</th>\n",
       "      <td>2</td>\n",
       "      <td>438631.0</td>\n",
       "      <td>en</td>\n",
       "      <td>Dune</td>\n",
       "      <td>2911.423</td>\n",
       "      <td>2021-09-15</td>\n",
       "      <td>8.0</td>\n",
       "      <td>3632.0</td>\n",
       "      <td>['Action', 'Adventure', 'Science Fiction']</td>\n",
       "      <td>Paul Atreides, a brilliant and gifted young ma...</td>\n",
       "      <td>331116356.0</td>\n",
       "      <td>155.0</td>\n",
       "      <td>Beyond fear, destiny awaits.</td>\n",
       "    </tr>\n",
       "    <tr>\n",
       "      <th>3</th>\n",
       "      <td>3</td>\n",
       "      <td>796499.0</td>\n",
       "      <td>en</td>\n",
       "      <td>Army of Thieves</td>\n",
       "      <td>2552.437</td>\n",
       "      <td>2021-10-27</td>\n",
       "      <td>6.9</td>\n",
       "      <td>555.0</td>\n",
       "      <td>['Action', 'Crime', 'Thriller']</td>\n",
       "      <td>A mysterious woman recruits bank teller Ludwig...</td>\n",
       "      <td>0.0</td>\n",
       "      <td>127.0</td>\n",
       "      <td>Before Vegas, one locksmith became a legend.</td>\n",
       "    </tr>\n",
       "    <tr>\n",
       "      <th>4</th>\n",
       "      <td>4</td>\n",
       "      <td>550988.0</td>\n",
       "      <td>en</td>\n",
       "      <td>Free Guy</td>\n",
       "      <td>1850.470</td>\n",
       "      <td>2021-08-11</td>\n",
       "      <td>7.8</td>\n",
       "      <td>3493.0</td>\n",
       "      <td>['Comedy', 'Action', 'Adventure', 'Science Fic...</td>\n",
       "      <td>A bank teller called Guy realizes he is a back...</td>\n",
       "      <td>331096766.0</td>\n",
       "      <td>115.0</td>\n",
       "      <td>Life's too short to be a background character.</td>\n",
       "    </tr>\n",
       "  </tbody>\n",
       "</table>\n",
       "</div>"
      ],
      "text/plain": [
       "  Unnamed: 0        id original_language               original_title  \\\n",
       "0          0  580489.0                en  Venom: Let There Be Carnage   \n",
       "1          1  524434.0                en                     Eternals   \n",
       "2          2  438631.0                en                         Dune   \n",
       "3          3  796499.0                en              Army of Thieves   \n",
       "4          4  550988.0                en                     Free Guy   \n",
       "\n",
       "   popularity release_date  vote_average  vote_count  \\\n",
       "0    5401.308   2021-09-30           6.8      1736.0   \n",
       "1    3365.535   2021-11-03           7.1       622.0   \n",
       "2    2911.423   2021-09-15           8.0      3632.0   \n",
       "3    2552.437   2021-10-27           6.9       555.0   \n",
       "4    1850.470   2021-08-11           7.8      3493.0   \n",
       "\n",
       "                                               genre  \\\n",
       "0         ['Science Fiction', 'Action', 'Adventure']   \n",
       "1  ['Action', 'Adventure', 'Science Fiction', 'Fa...   \n",
       "2         ['Action', 'Adventure', 'Science Fiction']   \n",
       "3                    ['Action', 'Crime', 'Thriller']   \n",
       "4  ['Comedy', 'Action', 'Adventure', 'Science Fic...   \n",
       "\n",
       "                                            overview      revenue  runtime  \\\n",
       "0  After finding a host body in investigative rep...  424000000.0     97.0   \n",
       "1  The Eternals are a team of ancient aliens who ...  165000000.0    157.0   \n",
       "2  Paul Atreides, a brilliant and gifted young ma...  331116356.0    155.0   \n",
       "3  A mysterious woman recruits bank teller Ludwig...          0.0    127.0   \n",
       "4  A bank teller called Guy realizes he is a back...  331096766.0    115.0   \n",
       "\n",
       "                                          tagline  \n",
       "0                                             NaN  \n",
       "1                             In the beginning...  \n",
       "2                    Beyond fear, destiny awaits.  \n",
       "3    Before Vegas, one locksmith became a legend.  \n",
       "4  Life's too short to be a background character.  "
      ]
     },
     "execution_count": 3,
     "metadata": {},
     "output_type": "execute_result"
    }
   ],
   "source": [
    "df.head()"
   ]
  },
  {
   "cell_type": "code",
   "execution_count": 4,
   "id": "add56160-4092-45f8-bbb2-fe17c9e5c6b4",
   "metadata": {},
   "outputs": [
    {
     "data": {
      "text/html": [
       "<div>\n",
       "<style scoped>\n",
       "    .dataframe tbody tr th:only-of-type {\n",
       "        vertical-align: middle;\n",
       "    }\n",
       "\n",
       "    .dataframe tbody tr th {\n",
       "        vertical-align: top;\n",
       "    }\n",
       "\n",
       "    .dataframe thead th {\n",
       "        text-align: right;\n",
       "    }\n",
       "</style>\n",
       "<table border=\"1\" class=\"dataframe\">\n",
       "  <thead>\n",
       "    <tr style=\"text-align: right;\">\n",
       "      <th></th>\n",
       "      <th>Unnamed: 0</th>\n",
       "      <th>id</th>\n",
       "      <th>original_language</th>\n",
       "      <th>original_title</th>\n",
       "      <th>popularity</th>\n",
       "      <th>release_date</th>\n",
       "      <th>vote_average</th>\n",
       "      <th>vote_count</th>\n",
       "      <th>genre</th>\n",
       "      <th>overview</th>\n",
       "      <th>revenue</th>\n",
       "      <th>runtime</th>\n",
       "      <th>tagline</th>\n",
       "    </tr>\n",
       "  </thead>\n",
       "  <tbody>\n",
       "    <tr>\n",
       "      <th>10009</th>\n",
       "      <td>9995</td>\n",
       "      <td>530.0</td>\n",
       "      <td>en</td>\n",
       "      <td>A Grand Day Out</td>\n",
       "      <td>9.266</td>\n",
       "      <td>1990-05-18</td>\n",
       "      <td>7.5</td>\n",
       "      <td>594.0</td>\n",
       "      <td>['Adventure', 'Animation', 'Comedy', 'Science ...</td>\n",
       "      <td>Wallace and Gromit have run out of cheese and ...</td>\n",
       "      <td>0.0</td>\n",
       "      <td>23.0</td>\n",
       "      <td>NaN</td>\n",
       "    </tr>\n",
       "    <tr>\n",
       "      <th>10010</th>\n",
       "      <td>9996</td>\n",
       "      <td>15934.0</td>\n",
       "      <td>en</td>\n",
       "      <td>El cantante</td>\n",
       "      <td>10.417</td>\n",
       "      <td>2006-09-12</td>\n",
       "      <td>7.0</td>\n",
       "      <td>80.0</td>\n",
       "      <td>['History', 'Drama', 'Music']</td>\n",
       "      <td>The rise and fall of salsa singer, Héctor Lavo...</td>\n",
       "      <td>0.0</td>\n",
       "      <td>116.0</td>\n",
       "      <td>Based on the true story of the King of Salsa, ...</td>\n",
       "    </tr>\n",
       "    <tr>\n",
       "      <th>10011</th>\n",
       "      <td>9997</td>\n",
       "      <td>162215.0</td>\n",
       "      <td>en</td>\n",
       "      <td>How I Live Now</td>\n",
       "      <td>9.520</td>\n",
       "      <td>2013-09-10</td>\n",
       "      <td>6.6</td>\n",
       "      <td>705.0</td>\n",
       "      <td>['Drama', 'Action', 'Thriller', 'War']</td>\n",
       "      <td>An American girl on holiday in the English cou...</td>\n",
       "      <td>0.0</td>\n",
       "      <td>101.0</td>\n",
       "      <td>Love will lead you home</td>\n",
       "    </tr>\n",
       "    <tr>\n",
       "      <th>10012</th>\n",
       "      <td>9998</td>\n",
       "      <td>5723.0</td>\n",
       "      <td>en</td>\n",
       "      <td>Once</td>\n",
       "      <td>9.267</td>\n",
       "      <td>2007-03-23</td>\n",
       "      <td>7.4</td>\n",
       "      <td>990.0</td>\n",
       "      <td>['Drama', 'Music', 'Romance']</td>\n",
       "      <td>A vacuum repairman moonlights as a street musi...</td>\n",
       "      <td>20710513.0</td>\n",
       "      <td>85.0</td>\n",
       "      <td>How often do you find the right person?</td>\n",
       "    </tr>\n",
       "    <tr>\n",
       "      <th>10013</th>\n",
       "      <td>9999</td>\n",
       "      <td>311667.0</td>\n",
       "      <td>en</td>\n",
       "      <td>Manhattan Night</td>\n",
       "      <td>9.273</td>\n",
       "      <td>2016-05-20</td>\n",
       "      <td>6.0</td>\n",
       "      <td>304.0</td>\n",
       "      <td>['Drama', 'Mystery', 'Thriller']</td>\n",
       "      <td>Porter Wren is a Manhattan tabloid writer with...</td>\n",
       "      <td>0.0</td>\n",
       "      <td>113.0</td>\n",
       "      <td>No reporter can resist a siren.</td>\n",
       "    </tr>\n",
       "  </tbody>\n",
       "</table>\n",
       "</div>"
      ],
      "text/plain": [
       "      Unnamed: 0        id original_language   original_title  popularity  \\\n",
       "10009       9995     530.0                en  A Grand Day Out       9.266   \n",
       "10010       9996   15934.0                en      El cantante      10.417   \n",
       "10011       9997  162215.0                en   How I Live Now       9.520   \n",
       "10012       9998    5723.0                en             Once       9.267   \n",
       "10013       9999  311667.0                en  Manhattan Night       9.273   \n",
       "\n",
       "      release_date  vote_average  vote_count  \\\n",
       "10009   1990-05-18           7.5       594.0   \n",
       "10010   2006-09-12           7.0        80.0   \n",
       "10011   2013-09-10           6.6       705.0   \n",
       "10012   2007-03-23           7.4       990.0   \n",
       "10013   2016-05-20           6.0       304.0   \n",
       "\n",
       "                                                   genre  \\\n",
       "10009  ['Adventure', 'Animation', 'Comedy', 'Science ...   \n",
       "10010                      ['History', 'Drama', 'Music']   \n",
       "10011             ['Drama', 'Action', 'Thriller', 'War']   \n",
       "10012                      ['Drama', 'Music', 'Romance']   \n",
       "10013                   ['Drama', 'Mystery', 'Thriller']   \n",
       "\n",
       "                                                overview     revenue  runtime  \\\n",
       "10009  Wallace and Gromit have run out of cheese and ...         0.0     23.0   \n",
       "10010  The rise and fall of salsa singer, Héctor Lavo...         0.0    116.0   \n",
       "10011  An American girl on holiday in the English cou...         0.0    101.0   \n",
       "10012  A vacuum repairman moonlights as a street musi...  20710513.0     85.0   \n",
       "10013  Porter Wren is a Manhattan tabloid writer with...         0.0    113.0   \n",
       "\n",
       "                                                 tagline  \n",
       "10009                                                NaN  \n",
       "10010  Based on the true story of the King of Salsa, ...  \n",
       "10011                            Love will lead you home  \n",
       "10012            How often do you find the right person?  \n",
       "10013                    No reporter can resist a siren.  "
      ]
     },
     "execution_count": 4,
     "metadata": {},
     "output_type": "execute_result"
    }
   ],
   "source": [
    "df.tail()"
   ]
  },
  {
   "cell_type": "code",
   "execution_count": 5,
   "id": "b8b03360-516e-4161-88c8-5e5c5f17d894",
   "metadata": {},
   "outputs": [
    {
     "data": {
      "text/plain": [
       "(10014, 13)"
      ]
     },
     "execution_count": 5,
     "metadata": {},
     "output_type": "execute_result"
    }
   ],
   "source": [
    "df.shape"
   ]
  },
  {
   "cell_type": "code",
   "execution_count": 6,
   "id": "661e8fa4-1336-42ab-98a0-eca005a80e28",
   "metadata": {},
   "outputs": [
    {
     "data": {
      "text/plain": [
       "Unnamed: 0              0\n",
       "id                     12\n",
       "original_language      12\n",
       "original_title         13\n",
       "popularity             14\n",
       "release_date           52\n",
       "vote_average           14\n",
       "vote_count             14\n",
       "genre                  14\n",
       "overview              114\n",
       "revenue                16\n",
       "runtime                25\n",
       "tagline              2935\n",
       "dtype: int64"
      ]
     },
     "execution_count": 6,
     "metadata": {},
     "output_type": "execute_result"
    }
   ],
   "source": [
    "df.isnull().sum()"
   ]
  },
  {
   "cell_type": "code",
   "execution_count": 7,
   "id": "5844ca6b-7f16-4354-8d1e-c5806dcdf3df",
   "metadata": {},
   "outputs": [],
   "source": [
    "df=df.dropna()"
   ]
  },
  {
   "cell_type": "markdown",
   "id": "8bc79336-0916-4da8-b21e-df4b8fbc97a1",
   "metadata": {},
   "source": [
    "# Complete Plan of this Project\n",
    "\n",
    "I am going to take into consideration the average rating('vote_average'), total no. of votes('vote_count') and the details of the specific movie('overview').\n",
    "I am going to normalise the average rating and total no. of ratings so that it can be embedded with the vector embeddings of the overview.\n",
    "I am then going to create vectors for 'overview' and then I am going to embed it using TensorFlow(NLP technique)."
   ]
  },
  {
   "cell_type": "markdown",
   "id": "f203a57e-a2ec-415a-ae13-7c9f123fa392",
   "metadata": {},
   "source": [
    "# Normalisation of Average Rating\n",
    "* Checking Skewness"
   ]
  },
  {
   "cell_type": "markdown",
   "id": "24f1e52e-43ba-4a65-b3e2-bea6140e9cff",
   "metadata": {},
   "source": [
    "\n",
    "Before we start to create embeddings of overview we need to normalise the average rating and total no. of ratings and for that we need to check for the skewness of the data."
   ]
  },
  {
   "cell_type": "code",
   "execution_count": 8,
   "id": "dc739fb3-6147-4384-9345-cf796bc37ecf",
   "metadata": {},
   "outputs": [
    {
     "name": "stdout",
     "output_type": "stream",
     "text": [
      "The skewness is:  -1.8870080556975073\n"
     ]
    }
   ],
   "source": [
    "skewness = skew(df['vote_average'])\n",
    "print(\"The skewness is: \", skewness)"
   ]
  },
  {
   "cell_type": "markdown",
   "id": "c11f4eea-2059-44bc-9633-5ce099fadffb",
   "metadata": {},
   "source": [
    "Since we get a negative value of higher than -1, therefore we can conclude that the data is skewed and hence Z-score scaling can't be used for normalisation of average rating('vote_aveerage'). Hence, I will be applying Min-Max Scaling which gives the normalised value between 0 and 1, but since Min-Max Scaling can't work with outliers we have to remove them."
   ]
  },
  {
   "cell_type": "markdown",
   "id": "549c3f7d-6c4a-4408-a2de-07824054c73a",
   "metadata": {},
   "source": [
    "* Removal of Outliers"
   ]
  },
  {
   "cell_type": "code",
   "execution_count": 9,
   "id": "ef3fc8c0-a9e6-4214-9364-977cada4f032",
   "metadata": {},
   "outputs": [
    {
     "name": "stdout",
     "output_type": "stream",
     "text": [
      "Total number of outliers are: 124\n"
     ]
    }
   ],
   "source": [
    "Q1 = df['vote_average'].quantile(0.25)\n",
    "Q3 = df['vote_average'].quantile(0.75)\n",
    "IQR = Q3 - Q1\n",
    "outliers = df[(df['vote_average'] < (Q1 - 1.5 * IQR)) | (df['vote_average'] > (Q3 + 1.5 * IQR))]\n",
    "outliers_count = outliers.shape[0]\n",
    "print(f'Total number of outliers are: {outliers_count}')"
   ]
  },
  {
   "cell_type": "code",
   "execution_count": 10,
   "id": "05ba3473-8cd1-4abb-9a08-c413f25dda74",
   "metadata": {},
   "outputs": [
    {
     "name": "stdout",
     "output_type": "stream",
     "text": [
      "Total number of outliers are: 0\n"
     ]
    }
   ],
   "source": [
    "df = df[(df['vote_average'] >= (Q1-1.5*IQR)) & (df['vote_average'] <= (Q3+1.5*IQR))]\n",
    "outliers = df[(df['vote_average'] < (Q1 - 1.5 * IQR)) | (df['vote_average'] > (Q3 + 1.5 * IQR))]\n",
    "outliers_count = outliers.shape[0]\n",
    "print(f'Total number of outliers are: {outliers_count}')"
   ]
  },
  {
   "cell_type": "markdown",
   "id": "5e2e1c36-9de7-448f-a2d4-1321ba6f2be6",
   "metadata": {},
   "source": [
    "* Normalisation of Average Rating"
   ]
  },
  {
   "cell_type": "code",
   "execution_count": 11,
   "id": "e2f7d1c2-cfb6-42b8-8be9-286abb2e25c9",
   "metadata": {},
   "outputs": [],
   "source": [
    "min=df['vote_average'].min()\n",
    "max=df['vote_average'].max()\n",
    "df['normalised_rating'] = (df['vote_average'] - min) / (max - min)"
   ]
  },
  {
   "cell_type": "markdown",
   "id": "7d03838e-b037-484d-9b96-867d89fac04c",
   "metadata": {},
   "source": [
    "# Normalisation of Total No. of Votes"
   ]
  },
  {
   "cell_type": "markdown",
   "id": "a92b93c4-4034-415f-bb69-5e23869c522f",
   "metadata": {},
   "source": [
    "* Checking Skewness"
   ]
  },
  {
   "cell_type": "code",
   "execution_count": 12,
   "id": "59b88ecb-922a-49be-8aba-7e5718e03a0c",
   "metadata": {},
   "outputs": [
    {
     "name": "stdout",
     "output_type": "stream",
     "text": [
      "The skewness is:  3.603815878879146\n"
     ]
    }
   ],
   "source": [
    "skewness = skew(df['vote_count'])\n",
    "print(\"The skewness is: \", skewness)"
   ]
  },
  {
   "cell_type": "markdown",
   "id": "e18711af-06bf-4e1e-95eb-5d6b2fa4e44b",
   "metadata": {},
   "source": [
    "Here scince the data is highly skewed therefore we will apply log transformation to remove the skewness first then Normalise it with Z-Score Scaling"
   ]
  },
  {
   "cell_type": "code",
   "execution_count": 13,
   "id": "d1d135ce-60fc-4037-992d-70b5fbbda14b",
   "metadata": {},
   "outputs": [],
   "source": [
    "df['log_transformation'] = df['vote_count'].apply(lambda x: ns.log(x))"
   ]
  },
  {
   "cell_type": "code",
   "execution_count": 14,
   "id": "19cc2321-a7d0-4a24-a1d4-c60cdc667a22",
   "metadata": {},
   "outputs": [],
   "source": [
    "mean_count=df['log_transformation'].mean()\n",
    "std_count=df['log_transformation'].std()\n",
    "df['normalised_count']=(df['log_transformation']-mean_count)/std_count"
   ]
  },
  {
   "cell_type": "code",
   "execution_count": 15,
   "id": "8fff601d-0368-4464-953c-09e7711c2efa",
   "metadata": {},
   "outputs": [
    {
     "name": "stderr",
     "output_type": "stream",
     "text": [
      "[nltk_data] Downloading package stopwords to\n",
      "[nltk_data]     C:\\Users\\ASUS\\AppData\\Roaming\\nltk_data...\n",
      "[nltk_data]   Package stopwords is already up-to-date!\n",
      "[nltk_data] Downloading package punkt to\n",
      "[nltk_data]     C:\\Users\\ASUS\\AppData\\Roaming\\nltk_data...\n",
      "[nltk_data]   Package punkt is already up-to-date!\n",
      "[nltk_data] Downloading package wordnet to\n",
      "[nltk_data]     C:\\Users\\ASUS\\AppData\\Roaming\\nltk_data...\n",
      "[nltk_data]   Package wordnet is already up-to-date!\n"
     ]
    },
    {
     "data": {
      "text/plain": [
       "True"
      ]
     },
     "execution_count": 15,
     "metadata": {},
     "output_type": "execute_result"
    }
   ],
   "source": [
    "nltk.download('stopwords')\n",
    "nltk.download('punkt')\n",
    "nltk.download('wordnet')"
   ]
  },
  {
   "cell_type": "code",
   "execution_count": 16,
   "id": "e44cd907-ad67-476a-8971-5bd191760a21",
   "metadata": {},
   "outputs": [],
   "source": [
    "def clean_text(text):\n",
    "    text = text.lower()\n",
    "    text = ''.join(char for char in text if char.isalnum() or char.isspace())\n",
    "    return text\n",
    "df['processed_overview'] = df['overview'].apply(clean_text)"
   ]
  },
  {
   "cell_type": "code",
   "execution_count": 20,
   "id": "d521a5b2-af5c-45cf-a02d-48dafff13d13",
   "metadata": {},
   "outputs": [],
   "source": [
    "stop_words = set(stopwords.words('english'))\n",
    "stemmer = PorterStemmer()\n",
    "def stem_txt(text):\n",
    "    tokens = word_tokenize(text)\n",
    "    stemmed_tokens = [stemmer.stem(token) for token in tokens]\n",
    "    return ' '.join(stemmed_tokens)\n",
    "df['processed_overview'] = df['processed_overview'].apply(stem_txt)"
   ]
  },
  {
   "cell_type": "code",
   "execution_count": null,
   "id": "2781eb5d-34bc-4d13-9ce6-4e920d5aff12",
   "metadata": {},
   "outputs": [],
   "source": []
  }
 ],
 "metadata": {
  "kernelspec": {
   "display_name": "Python 3 (ipykernel)",
   "language": "python",
   "name": "python3"
  },
  "language_info": {
   "codemirror_mode": {
    "name": "ipython",
    "version": 3
   },
   "file_extension": ".py",
   "mimetype": "text/x-python",
   "name": "python",
   "nbconvert_exporter": "python",
   "pygments_lexer": "ipython3",
   "version": "3.12.3"
  }
 },
 "nbformat": 4,
 "nbformat_minor": 5
}
